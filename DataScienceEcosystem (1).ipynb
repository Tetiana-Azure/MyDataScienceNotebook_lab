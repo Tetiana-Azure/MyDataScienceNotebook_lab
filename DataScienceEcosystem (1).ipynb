{
 "cells": [
  {
   "cell_type": "markdown",
   "id": "8d0f960e-dd1f-4e04-b27a-4ad4b545aa99",
   "metadata": {},
   "source": [
    "***Data Science Tools and Ecosystem***\n"
   ]
  },
  {
   "cell_type": "markdown",
   "id": "c26cf7f3-34ed-4515-825a-2efc12508c2d",
   "metadata": {},
   "source": [
    "_In this notebook, Data Science Tools and Ecosystem are summarized._\n"
   ]
  },
  {
   "cell_type": "code",
   "execution_count": null,
   "id": "a2130178-fa43-443a-b240-da89dc81333a",
   "metadata": {},
   "outputs": [],
   "source": [
    "**Some of the popular languages that Data Scientists use are:**\n",
    "1. Python\r\n",
    "2. R\r\n",
    "3. SQL\r\n",
    "\r\n"
   ]
  },
  {
   "cell_type": "markdown",
   "id": "054afba0-4669-4e5a-9698-5626f1cf3a10",
   "metadata": {},
   "source": [
    "**Some of the commonly used libraries used by Data Scientists include:**\r\n",
    "\r\n",
    "1. NumPy\r\n",
    "2. Pandas\r\n",
    "3. Matplotlib\r\n"
   ]
  },
  {
   "cell_type": "markdown",
   "id": "c542e20d-aa23-4ce3-8a29-ad76038e90a0",
   "metadata": {},
   "source": [
    "| Data Science Tools       |\n",
    "|--------------------------|\n",
    "| Jupyter Notebook          |\n",
    "| RStudio                   |\n",
    "| Apache Zeppelin           |\n"
   ]
  },
  {
   "cell_type": "markdown",
   "id": "d52e219e-1c20-4c41-a189-fd1811f3dbf4",
   "metadata": {},
   "source": [
    "### Below are a few examples of evaluating arithmetic expressions in Python\r\n"
   ]
  },
  {
   "cell_type": "code",
   "execution_count": 16,
   "id": "55a825e7-318d-4cbe-a7ea-520f151d732a",
   "metadata": {},
   "outputs": [
    {
     "data": {
      "text/plain": [
       "17"
      ]
     },
     "execution_count": 16,
     "metadata": {},
     "output_type": "execute_result"
    }
   ],
   "source": [
    "# This is a simple arithmetic expression to multiply then add integers\n",
    "(3 * 4) + 5\n"
   ]
  },
  {
   "cell_type": "code",
   "execution_count": 18,
   "id": "c9142193-abf3-4751-8fd5-2cb55b8457cd",
   "metadata": {},
   "outputs": [
    {
     "data": {
      "text/plain": [
       "3.3333333333333335"
      ]
     },
     "execution_count": 18,
     "metadata": {},
     "output_type": "execute_result"
    }
   ],
   "source": [
    "# This will convert 200 minutes to hours by dividing by 60\n",
    "200 / 60\n"
   ]
  },
  {
   "cell_type": "markdown",
   "id": "2f978b34-9df8-4b0c-bef4-8ae11783039d",
   "metadata": {},
   "source": [
    "**Objectives:**\n",
    "- List popular languages for Data Science\n",
    "- Explore common libraries used by Data Scientists\n",
    "- Understand basic arithmetic expressions in Python\n",
    "- Convert time from minutes to hours\n"
   ]
  },
  {
   "cell_type": "markdown",
   "id": "851853f0-fba8-4de4-9c36-5dcdf49792e8",
   "metadata": {},
   "source": [
    "## Author\r\n",
    "Tetiana Khmil\n",
    "e\r\n"
   ]
  },
  {
   "cell_type": "code",
   "execution_count": null,
   "id": "af0877a5-b276-4f40-90d1-27f8596b4b3a",
   "metadata": {},
   "outputs": [],
   "source": []
  }
 ],
 "metadata": {
  "kernelspec": {
   "display_name": "anaconda-2024.02-py310",
   "language": "python",
   "name": "conda-env-anaconda-2024.02-py310-py"
  },
  "language_info": {
   "codemirror_mode": {
    "name": "ipython",
    "version": 3
   },
   "file_extension": ".py",
   "mimetype": "text/x-python",
   "name": "python",
   "nbconvert_exporter": "python",
   "pygments_lexer": "ipython3",
   "version": "3.10.14"
  }
 },
 "nbformat": 4,
 "nbformat_minor": 5
}
